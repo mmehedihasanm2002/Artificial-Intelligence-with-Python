{
 "cells": [
  {
   "cell_type": "code",
   "execution_count": 10,
   "id": "d6cf16e6-3427-4ec0-a783-c2005a32f365",
   "metadata": {},
   "outputs": [
    {
     "name": "stdout",
     "output_type": "stream",
     "text": [
      "MY NAME IS MEHEDI HASAN\n",
      "ID AIU22102236\n"
     ]
    }
   ],
   "source": [
    "a = \"my name is mehedi hasan\"\n",
    "b = \"id aiu22102236\"\n",
    "print(a.upper())\n",
    "print(b.upper())"
   ]
  },
  {
   "cell_type": "code",
   "execution_count": 1,
   "id": "e9bd0a42-f11e-4bc6-8d35-3b60398bcdd5",
   "metadata": {},
   "outputs": [
    {
     "name": "stdout",
     "output_type": "stream",
     "text": [
      "Hello World\n"
     ]
    }
   ],
   "source": [
    "a = \"Hello World\"\n",
    "print(a)"
   ]
  },
  {
   "cell_type": "code",
   "execution_count": 4,
   "id": "2d26e24c-102e-47fb-b722-2d132156627b",
   "metadata": {},
   "outputs": [
    {
     "name": "stdout",
     "output_type": "stream",
     "text": [
      "Malaysia is the most beautiful country.\n"
     ]
    }
   ],
   "source": [
    "a = \"\"\"Malaysia is the most beautiful country.\"\"\"\n",
    "print(a)"
   ]
  },
  {
   "cell_type": "code",
   "execution_count": 5,
   "id": "48e0c042-be47-497b-aeb0-a2835edeaf5a",
   "metadata": {},
   "outputs": [
    {
     "name": "stdout",
     "output_type": "stream",
     "text": [
      "Welcome to Albukhary International University.\n"
     ]
    }
   ],
   "source": [
    "a = '''Welcome to Albukhary International University.'''\n",
    "print(a)"
   ]
  },
  {
   "cell_type": "code",
   "execution_count": 11,
   "id": "48111701-636d-47c0-bcba-ab751e56a9c4",
   "metadata": {},
   "outputs": [
    {
     "name": "stdout",
     "output_type": "stream",
     "text": [
      "l\n"
     ]
    }
   ],
   "source": [
    "a = \"Hello World\"\n",
    "print(a[2])"
   ]
  },
  {
   "cell_type": "code",
   "execution_count": 78,
   "id": "18a57c63-cec6-4744-874f-e462c06a45cc",
   "metadata": {},
   "outputs": [
    {
     "name": "stdout",
     "output_type": "stream",
     "text": [
      "34\n",
      "albukhary international university\n",
      "ALBUKHARY INTERNATIONAL UNIVERSITY\n"
     ]
    }
   ],
   "source": [
    "a = \"Albukhary International University\"\n",
    "print(len(a))\n",
    "print(a.lower())\n",
    "print(a.upper())"
   ]
  },
  {
   "cell_type": "code",
   "execution_count": 13,
   "id": "59f1e317-1ee2-4f25-b7b1-76111df9ea64",
   "metadata": {},
   "outputs": [
    {
     "name": "stdout",
     "output_type": "stream",
     "text": [
      "True\n"
     ]
    }
   ],
   "source": [
    "text = \"The best things in life are free!\"\n",
    "print(\"free\" in text)"
   ]
  },
  {
   "cell_type": "code",
   "execution_count": 14,
   "id": "295c9440-6639-46d5-b560-899d22a95015",
   "metadata": {},
   "outputs": [
    {
     "name": "stdout",
     "output_type": "stream",
     "text": [
      "False\n"
     ]
    }
   ],
   "source": [
    "text = \"The best things in life are free!\"\n",
    "print(\"AIU\" in text)"
   ]
  },
  {
   "cell_type": "code",
   "execution_count": 16,
   "id": "a280045f-05e6-463d-a34e-a7ff2172acd8",
   "metadata": {},
   "outputs": [
    {
     "name": "stdout",
     "output_type": "stream",
     "text": [
      "True\n"
     ]
    }
   ],
   "source": [
    "text = \"The best things in life are free!\"\n",
    "print(\"AIU\" not in text)"
   ]
  },
  {
   "cell_type": "code",
   "execution_count": 17,
   "id": "d093587e-7c26-4ae6-9064-693f8734ecfc",
   "metadata": {},
   "outputs": [
    {
     "name": "stdout",
     "output_type": "stream",
     "text": [
      "False\n"
     ]
    }
   ],
   "source": [
    "text = \"The best things in life are free!\"\n",
    "print(\"best\" not in text)"
   ]
  },
  {
   "cell_type": "code",
   "execution_count": 18,
   "id": "46c51e76-31ad-48d6-b4e1-6259ee6d1c5d",
   "metadata": {},
   "outputs": [
    {
     "name": "stdout",
     "output_type": "stream",
     "text": [
      "el\n"
     ]
    }
   ],
   "source": [
    "a = \"Hello world\"\n",
    "print(a[1:3])"
   ]
  },
  {
   "cell_type": "code",
   "execution_count": 20,
   "id": "db324de6-b7b4-4076-9ba0-6d339561219d",
   "metadata": {},
   "outputs": [
    {
     "name": "stdout",
     "output_type": "stream",
     "text": [
      "Hell\n"
     ]
    }
   ],
   "source": [
    "a = \"Hello world\"\n",
    "print(a[:4])"
   ]
  },
  {
   "cell_type": "code",
   "execution_count": 22,
   "id": "8682000f-2f23-4995-906c-77831d152a38",
   "metadata": {},
   "outputs": [
    {
     "name": "stdout",
     "output_type": "stream",
     "text": [
      "lo world!\n"
     ]
    }
   ],
   "source": [
    "a = \"Hello world!\"\n",
    "print(a[3:])"
   ]
  },
  {
   "cell_type": "code",
   "execution_count": 25,
   "id": "537d0487-dba9-41e2-bca8-d014fe62ac82",
   "metadata": {},
   "outputs": [
    {
     "name": "stdout",
     "output_type": "stream",
     "text": [
      "wor\n"
     ]
    }
   ],
   "source": [
    "a = \"Hello world\"\n",
    "print(a[-5:-2])"
   ]
  },
  {
   "cell_type": "code",
   "execution_count": 26,
   "id": "2e17d6b7-1681-45d4-a331-9b47905ca740",
   "metadata": {},
   "outputs": [
    {
     "name": "stdout",
     "output_type": "stream",
     "text": [
      "MEHEDI HASAN\n"
     ]
    }
   ],
   "source": [
    "a = \"Mehedi Hasan\"\n",
    "print(a.upper())"
   ]
  },
  {
   "cell_type": "code",
   "execution_count": 27,
   "id": "ceddb44e-5369-4ff8-8fe6-fd54eea88846",
   "metadata": {},
   "outputs": [
    {
     "name": "stdout",
     "output_type": "stream",
     "text": [
      "mehedi hasan\n"
     ]
    }
   ],
   "source": [
    "a = \"Mehedi Hasan\"\n",
    "print(a.lower())"
   ]
  },
  {
   "cell_type": "code",
   "execution_count": 29,
   "id": "d7137893-728d-46f0-bbc5-90f9a204f0fd",
   "metadata": {},
   "outputs": [
    {
     "name": "stdout",
     "output_type": "stream",
     "text": [
      "Hello World!\n"
     ]
    }
   ],
   "source": [
    "b = \"Hello World!\"\n",
    "print(b.strip()) # returns \"Hello, World!\""
   ]
  },
  {
   "cell_type": "code",
   "execution_count": 31,
   "id": "7658962e-91c6-4091-a2b1-1b94b433e85a",
   "metadata": {},
   "outputs": [
    {
     "name": "stdout",
     "output_type": "stream",
     "text": [
      "Hello Corld!\n"
     ]
    }
   ],
   "source": [
    "a = \"Hello World!\"\n",
    "print(a.replace(\"W\", \"C\"))"
   ]
  },
  {
   "cell_type": "code",
   "execution_count": 33,
   "id": "0545ec3d-6e12-46d6-b770-a385633defa1",
   "metadata": {},
   "outputs": [
    {
     "name": "stdout",
     "output_type": "stream",
     "text": [
      "['Hello Wrold!']\n"
     ]
    }
   ],
   "source": [
    "b = \"Hello Wrold!\"\n",
    "print(b.split(\",\")) # returns ['Hello', ' World!']"
   ]
  },
  {
   "cell_type": "code",
   "execution_count": 34,
   "id": "6b2528dd-5c1f-4804-9ead-2cfdd3a2475a",
   "metadata": {},
   "outputs": [
    {
     "name": "stdout",
     "output_type": "stream",
     "text": [
      "HelloWorld\n"
     ]
    }
   ],
   "source": [
    "a =  \"Hello\"\n",
    "b = \"World\"\n",
    "c = a + b\n",
    "print(c)"
   ]
  },
  {
   "cell_type": "code",
   "execution_count": 35,
   "id": "3008e247-726a-40e7-9af1-dd9d631f1a11",
   "metadata": {},
   "outputs": [
    {
     "name": "stdout",
     "output_type": "stream",
     "text": [
      "Hello World\n"
     ]
    }
   ],
   "source": [
    "a =  \"Hello\"\n",
    "b = \"World\"\n",
    "c = a +\" \"+ b\n",
    "print(c)"
   ]
  },
  {
   "cell_type": "code",
   "execution_count": 43,
   "id": "8848d1f7-b9dd-4497-b9e7-09dfa94f4737",
   "metadata": {},
   "outputs": [
    {
     "name": "stdout",
     "output_type": "stream",
     "text": [
      "My name is Mehedi Hasan, I am 21\n"
     ]
    }
   ],
   "source": [
    "age = 21\n",
    "text = \"My name is Mehedi Hasan, I am {}\"\n",
    "print(text.format(age))"
   ]
  },
  {
   "cell_type": "code",
   "execution_count": 47,
   "id": "66133210-e721-4593-831b-cd17c79e8022",
   "metadata": {},
   "outputs": [
    {
     "name": "stdout",
     "output_type": "stream",
     "text": [
      "I want 5 pieces of item 515 for 50.5 dollars\n"
     ]
    }
   ],
   "source": [
    "quantity = 5\n",
    "itemno = 515\n",
    "price = 50.5\n",
    "myorder = \"I want {} pieces of item {} for {} dollars\"\n",
    "print(myorder.format(quantity, itemno, price))"
   ]
  },
  {
   "cell_type": "code",
   "execution_count": 48,
   "id": "62667a19-4839-4617-bfbf-7f083e93bfca",
   "metadata": {},
   "outputs": [
    {
     "name": "stdout",
     "output_type": "stream",
     "text": [
      "I want to pay 50.5 dollars for 5 pieces of item 515.\n"
     ]
    }
   ],
   "source": [
    "quantity = 5\n",
    "itemno = 515\n",
    "price = 50.5\n",
    "myorder = \"I want to pay {2} dollars for {0} pieces of item {1}.\"\n",
    "print(myorder.format(quantity, itemno, price))"
   ]
  },
  {
   "cell_type": "code",
   "execution_count": 49,
   "id": "6ce5c3fa-9737-4bef-b935-0d3be9f8e0ae",
   "metadata": {},
   "outputs": [
    {
     "name": "stdout",
     "output_type": "stream",
     "text": [
      "We are the so-called \"Vikings\" from the north.\n"
     ]
    }
   ],
   "source": [
    "text = \"We are the so-called \\\"Vikings\\\" from the north.\"\n",
    "print(text)"
   ]
  },
  {
   "cell_type": "code",
   "execution_count": 50,
   "id": "c2473c5f-4d90-4ad4-8b3f-b2fc7023d448",
   "metadata": {},
   "outputs": [
    {
     "name": "stdout",
     "output_type": "stream",
     "text": [
      "['apple', 'banana', 'cherry']\n"
     ]
    }
   ],
   "source": [
    "thislist = [\"apple\", \"banana\", \"cherry\"]\n",
    "print(thislist)"
   ]
  },
  {
   "cell_type": "code",
   "execution_count": 51,
   "id": "a7bf7057-0383-4ac6-b3a0-785864c266ce",
   "metadata": {},
   "outputs": [
    {
     "name": "stdout",
     "output_type": "stream",
     "text": [
      "['apple', 'banana', 'cherry', 'cherry', 'AIU']\n"
     ]
    }
   ],
   "source": [
    "thislist = [\"apple\", \"banana\", \"cherry\", \"cherry\", \"AIU\"]\n",
    "print(thislist)"
   ]
  },
  {
   "cell_type": "code",
   "execution_count": 52,
   "id": "bf1475d8-77d3-4bc9-83a4-e68ebf3516dc",
   "metadata": {},
   "outputs": [
    {
     "name": "stdout",
     "output_type": "stream",
     "text": [
      "3\n"
     ]
    }
   ],
   "source": [
    "thislist = [\"apple\", \"banana\", \"cherry\"]\n",
    "print(len(thislist))"
   ]
  },
  {
   "cell_type": "code",
   "execution_count": 53,
   "id": "3497ac62-c714-4cd9-b28d-6741e77d7d9b",
   "metadata": {},
   "outputs": [
    {
     "name": "stdout",
     "output_type": "stream",
     "text": [
      "<class 'list'>\n"
     ]
    }
   ],
   "source": [
    "mylist = [\"apple\", \"banana\", \"cherry\"]\n",
    "print(type(mylist))"
   ]
  },
  {
   "cell_type": "code",
   "execution_count": 55,
   "id": "89513f0f-2761-4505-8ea0-7b27035f13f3",
   "metadata": {},
   "outputs": [
    {
     "name": "stdout",
     "output_type": "stream",
     "text": [
      "['apple', 'banana', 'cherry']\n"
     ]
    }
   ],
   "source": [
    "thislist = list((\"apple\", \"banana\", \"cherry\")) # note the double round-brackets\n",
    "print(thislist)"
   ]
  },
  {
   "cell_type": "code",
   "execution_count": 61,
   "id": "ec0cfbf3-9505-44d3-868e-8a48181abbb5",
   "metadata": {},
   "outputs": [
    {
     "name": "stdout",
     "output_type": "stream",
     "text": [
      "banana\n"
     ]
    }
   ],
   "source": [
    "thislist = [\"apple\", \"banana\", \"cherry\"]\n",
    "print(thislist[1])"
   ]
  },
  {
   "cell_type": "code",
   "execution_count": 64,
   "id": "26d768fa-298e-4908-adc5-a19a2055c005",
   "metadata": {},
   "outputs": [
    {
     "name": "stdout",
     "output_type": "stream",
     "text": [
      "banana\n"
     ]
    }
   ],
   "source": [
    "thislist = [\"apple\", \"banana\", \"cherry\"]\n",
    "print(thislist[-2])"
   ]
  },
  {
   "cell_type": "code",
   "execution_count": 65,
   "id": "c5964b45-97e0-4237-82c1-601450585eb0",
   "metadata": {},
   "outputs": [
    {
     "name": "stdout",
     "output_type": "stream",
     "text": [
      "['orange', 'kiwi', 'melon']\n"
     ]
    }
   ],
   "source": [
    "thislist = [\"apple\", \"banana\", \"cherry\", \"orange\", \"kiwi\", \"melon\", \"mango\"]\n",
    "print(thislist[3:6])"
   ]
  },
  {
   "cell_type": "code",
   "execution_count": 66,
   "id": "1299e4f9-91cf-4461-96a0-316bdba34426",
   "metadata": {},
   "outputs": [
    {
     "name": "stdout",
     "output_type": "stream",
     "text": [
      "['apple', 'banana', 'cherry', 'orange', 'kiwi', 'melon']\n"
     ]
    }
   ],
   "source": [
    "thislist = [\"apple\", \"banana\", \"cherry\", \"orange\", \"kiwi\", \"melon\", \"mango\"]\n",
    "print(thislist[:6])"
   ]
  },
  {
   "cell_type": "code",
   "execution_count": 67,
   "id": "0c3820cb-2c20-456d-ba88-5a6e14b1aa3c",
   "metadata": {},
   "outputs": [
    {
     "name": "stdout",
     "output_type": "stream",
     "text": [
      "banana\n"
     ]
    }
   ],
   "source": [
    "thislist = [\"apple\", \"banana\", \"cherry\", \"orange\", \"kiwi\", \"melon\", \"mango\"]\n",
    "print(thislist[-6])"
   ]
  },
  {
   "cell_type": "code",
   "execution_count": 70,
   "id": "086f5550-4a6e-4a17-b1a6-048c28de5e57",
   "metadata": {},
   "outputs": [
    {
     "name": "stdout",
     "output_type": "stream",
     "text": [
      "['apple', 'banana', 'blacklcurrent', 'mango']\n"
     ]
    }
   ],
   "source": [
    "thislist = [\"apple\", \"banana\", \"cherry\",\"mango\"]\n",
    "thislist [2] = \"blacklcurrent\"\n",
    "print (thislist)"
   ]
  },
  {
   "cell_type": "code",
   "execution_count": 75,
   "id": "f61b4888-a924-4f4f-a1e7-ea48c4dd9d7b",
   "metadata": {},
   "outputs": [
    {
     "name": "stdout",
     "output_type": "stream",
     "text": [
      "['apple', 'banana', 'blackcurrant', 'watermelon', 'orange', 'kiwi', 'melon', 'mango']\n"
     ]
    }
   ],
   "source": [
    "thislist = [\"apple\", \"banana\", \"cherry\", \"orange\", \"kiwi\", \"melon\", \"mango\"]\n",
    "thislist [2:3] = [\"blackcurrant\", \"watermelon\"]\n",
    "print(thislist)"
   ]
  },
  {
   "cell_type": "code",
   "execution_count": null,
   "id": "77bfb6d0-3a7b-416f-bf84-9c5f54f6e008",
   "metadata": {},
   "outputs": [],
   "source": []
  }
 ],
 "metadata": {
  "kernelspec": {
   "display_name": "Python 3 (ipykernel)",
   "language": "python",
   "name": "python3"
  },
  "language_info": {
   "codemirror_mode": {
    "name": "ipython",
    "version": 3
   },
   "file_extension": ".py",
   "mimetype": "text/x-python",
   "name": "python",
   "nbconvert_exporter": "python",
   "pygments_lexer": "ipython3",
   "version": "3.11.7"
  }
 },
 "nbformat": 4,
 "nbformat_minor": 5
}
