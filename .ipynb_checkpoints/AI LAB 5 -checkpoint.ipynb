{
 "cells": [
  {
   "cell_type": "code",
   "execution_count": 26,
   "id": "4c80e57d-c5e1-46c2-9a1e-bb169fb1e234",
   "metadata": {},
   "outputs": [
    {
     "name": "stdout",
     "output_type": "stream",
     "text": [
      "A B C D E F "
     ]
    }
   ],
   "source": [
    "graph1 = {\n",
    "    'A' : ['B', 'C'],\n",
    "    'B' : ['D', 'E'],\n",
    "    'C' : ['F', 'G'],\n",
    "    'D' : [],\n",
    "    'E' : [],\n",
    "    'F' : [],\n",
    "    'G' : []\n",
    "}\n",
    "visited = []\n",
    "queue = []\n",
    "goal = 'F'\n",
    "def bfs(visited, graph1, node):\n",
    "    visited.append(node)\n",
    "    queue.append(node)\n",
    "    while queue:\n",
    "        s = queue.pop(0)\n",
    "        print (s, end = \" \")\n",
    "        \n",
    "        for neighbour in graph1[s]:\n",
    "            if neighbour not in visited:\n",
    "                visited.append(neighbour)\n",
    "                queue.append(neighbour)\n",
    "                if goal in visited:\n",
    "                    break\n",
    "bfs(visited, graph1, 'A')"
   ]
  },
  {
   "cell_type": "code",
   "execution_count": 27,
   "id": "f02268a9-0d8f-4bc3-a8a9-accb98db01ba",
   "metadata": {},
   "outputs": [
    {
     "name": "stdout",
     "output_type": "stream",
     "text": [
      "A\n",
      "B\n",
      "D\n",
      "E\n",
      "C\n",
      "F\n"
     ]
    }
   ],
   "source": [
    "graph2 = {\n",
    "    'A' : ['B', 'C'],\n",
    "    'B' : ['D', 'E'],\n",
    "    'C' : ['F', 'G'],\n",
    "    'D' : [],\n",
    "    'E' : [],\n",
    "    'F' : [],\n",
    "    'G' : []\n",
    "}\n",
    "goal = 'F'\n",
    "visited = set()\n",
    "def dfs(visited, graph2, node):\n",
    "    if node not in visited:\n",
    "        print (node)\n",
    "        visited.add(node)\n",
    "        for neighbour in graph2[node]:\n",
    "            if goal in visited:\n",
    "                break\n",
    "            else:\n",
    "                dfs(visited, graph2, neighbour)\n",
    "dfs(visited, graph2, 'A')"
   ]
  },
  {
   "cell_type": "code",
   "execution_count": null,
   "id": "d7fa3884-df9d-4b6f-ace8-c979b14f158c",
   "metadata": {},
   "outputs": [],
   "source": [
    "graph3 = {\n",
    "    'A' : ['B', 'C'],\n",
    "    'B' : ['D', 'E'],\n",
    "    'C' : ['F', 'G'],\n",
    "    'D' : [],\n",
    "    'E' : [],\n",
    "    'F' : [],\n",
    "    'G' : []\n",
    "}\n",
    "def DLS(start,goal,path,level,maxd):\n",
    "    print('nCurrent level-->',level)\n",
    "    path.append(start)\n",
    "    if start == goal:\n",
    "        print(\"Goal test successful\")\n",
    "        return path\n",
    "    print('Goal node testing failed')\n",
    "    if level==maxD:\n",
    "        return False\n",
    "    print('nExpanding the current node',start)\n",
    "    for child in graph3[start]:\n",
    "        if DLS(child,goal,path,level+1,maxD):\n",
    "            return path\n",
    "        path.pop()\n",
    "    return False\n",
    "start = 'A'\n",
    "goal = input('Enter the goal node:-')\n",
    "maxD = int(input(\"Enter the maximum depth limit:-\"))\n",
    "print()\n",
    "path = list()\n",
    "res = DLS(start,goal,path,0,maxD)\n",
    "if(res):\n",
    "    print(\"Path to goal node available\")\n",
    "    print(\"Path\",path)\n",
    "else:\n",
    "    print( \"No path available for the goal node in given depth limit\" )"
   ]
  },
  {
   "cell_type": "code",
   "execution_count": null,
   "id": "5258dc5c-0966-4ee3-b269-fa5a492adf93",
   "metadata": {},
   "outputs": [],
   "source": []
  }
 ],
 "metadata": {
  "kernelspec": {
   "display_name": "Python 3 (ipykernel)",
   "language": "python",
   "name": "python3"
  },
  "language_info": {
   "codemirror_mode": {
    "name": "ipython",
    "version": 3
   },
   "file_extension": ".py",
   "mimetype": "text/x-python",
   "name": "python",
   "nbconvert_exporter": "python",
   "pygments_lexer": "ipython3",
   "version": "3.11.7"
  }
 },
 "nbformat": 4,
 "nbformat_minor": 5
}
